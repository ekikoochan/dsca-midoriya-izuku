{
 "cells": [
  {
   "cell_type": "markdown",
   "source": "# Kenapa Harus Python?\n\nSebelum kita mulai belajar Python, kita perlu tahu kenapa kita harus belajar Python. Pada materi ini kita akan mulai dengan sejarah awal adanya Python, tren perkembengan Python sampai sekarang, perbandingan dengan bahasa pemrograman yang lain, kelebihan Python yang berguna dalam data science, dan bagaimana perkembangan Python ke depannya.",
   "metadata": {
    "slideshow": {
     "slide_type": "slide"
    },
    "tags": [],
    "cell_id": "00000-92f58ac2-3183-40af-a4f3-29193781e302",
    "deepnote_cell_type": "markdown"
   }
  },
  {
   "cell_type": "markdown",
   "source": "## Awal Mula Python\n\nPython dikembangkan oleh programmer asal Belanda bernama [Guido van Rossum](https://en.wikipedia.org/wiki/Guido_van_Rossum) di akhir tahun '80-an yang kemudian memublikasikan rilis pertama pada tahun 1991. Python dikembangkan sebagai bahasa pemrograman level tinggi (**high-level**) dan bertujuan umum (**general-purpose**).\n\nSampai saat ini, versi terakhir Python yang sudah rilis ada versi 3.9.5. Mulai dari tahun 2020, pengembangan dan pemeliharan Python versi 2.x ke bawah (2.7, 2.6, 2.0, 1.8, dan seterusnya) telah dihentikan. Sehingga, sekarang pengguna dan komunitas sangat disarankan menggunakan Python versi 3.x ke atas.\n\n> Python 2.x masih bisa digunakan, hanya saja pengembangan dan pemeliharaannya tidak dilakukan lagi. ([ref](https://www.python.org/dev/peps/pep-0373/))",
   "metadata": {
    "slideshow": {
     "slide_type": "slide"
    },
    "tags": [],
    "cell_id": "00001-fa9666c1-ef34-4d5b-bd8a-bb2b8f2fbbe5",
    "deepnote_cell_type": "markdown"
   }
  },
  {
   "cell_type": "markdown",
   "source": "Di bawah ini visualisasi jadwal rilis beberapa versi Python diambil dari [geeksforgeeks](https://www.geeksforgeeks.org/history-of-python/).\n\n<div align=\"middle\">\n<img src=\"https://media.geeksforgeeks.org/wp-content/uploads/20190502023317/TIMELINE.jpg\" width=\"50%\">\n</div>",
   "metadata": {
    "slideshow": {
     "slide_type": "subslide"
    },
    "tags": [],
    "cell_id": "00002-d5b3456a-c42f-4aee-936d-cfb0ee0774eb",
    "deepnote_cell_type": "markdown"
   }
  },
  {
   "cell_type": "markdown",
   "source": "## Perbandingan dengan Bahasa Pemrograman Lain\n\nSelain Python, opsi bahasa pemrograman lain yang juga sering digunakan dalam melakukan data science adalah [R](https://www.r-project.org/). Baik R maupun Python merupakan bahasa pemorgraman yang dapat diakses dan digunakan secara gratis oleh siapa saja. Lalu kenapa kita tidak menggunakan R?\n\nKita perlu membandingkan terlebih dahulu, apa kelebihan dan kekurangan dari masing-masing bahasa, baik R ataupun Python. Mari kita lihat.",
   "metadata": {
    "slideshow": {
     "slide_type": "slide"
    },
    "tags": [],
    "cell_id": "00003-9942add5-be0a-4063-8532-b0681e77df2d",
    "deepnote_cell_type": "markdown"
   }
  },
  {
   "cell_type": "markdown",
   "source": "### R\n\n* Ditujukan untuk analisis statistik\n* Dikembangkan oleh statistikawan untuk statistikawan\n* Menyediakan visualisasi yang cantik dan beragam\n* Relatif lebih lambat dibandingkan dengan Python\n* Tidak bisa digunakan sebagai *back-end* sebuah aplikasi web",
   "metadata": {
    "slideshow": {
     "slide_type": "subslide"
    },
    "tags": [],
    "cell_id": "00004-6b3c6c65-0188-486f-a00b-0b4ade74299a",
    "deepnote_cell_type": "markdown"
   }
  },
  {
   "cell_type": "markdown",
   "source": "### Python\n\n* Mudah untuk dipelajari\n* Bisa digunakan untuk berbagai macam tujuan, tidak hanya data science\n* Komunitas pengguna yang sangat aktif dan banyak\n* Visualisasi di Python lebih kompleks\n\nKarena beberapa poin di atas lah, kita memutuskan untuk menggunakan Python. Kita bisa beralih menggunakan R kalau memang proyek data science yang dikerjakan lebih berat dan seringkali berurusan dengan statistika.",
   "metadata": {
    "slideshow": {
     "slide_type": "subslide"
    },
    "tags": [],
    "cell_id": "00005-6bc1728b-0529-48f6-83b6-08aed1a36c01",
    "deepnote_cell_type": "markdown"
   }
  },
  {
   "cell_type": "markdown",
   "source": "## Tren Penggunaan Python Sekarang dan Masa Depan\n\nDengan semakin banyaknya yang memakai Python, mulai dari untuk data science, web development, aplikasi permainan, dan lainnya, Python tumbuh dan berkembang menjadi bahasa pemrograman yang sangat populer. Selain itu juga, banyak pengembang yang membuat modul atau pustakanya sendiri untuk bisa dipakai oleh orang lain, sehingga dukungan dari komunitas Python juga besar.\n\nSurvei yang dilakukan oleh [stackoverflow pada tahun 2020](https://insights.stackoverflow.com/survey/2020#technology-programming-scripting-and-markup-languages) menempatkan Python pada posisi 4 bahasa pemrograman paling populer, yang sebelumnya pada hasil [survei 2018](https://insights.stackoverflow.com/survey/2018#technology) berada pada posisi 7. Python berhasil mengalahkan (melangkahi) bahasa pemrogrman yang lain seperti SQL, Java, dan Bash/Shell.\n\nGitHub juga memublikasikan [data statistik](https://octoverse.github.com/) semua kode yang ditulis seluruh pengembang/pengguna GitHub. Terlihat tren peringkat Python dari 6 tahun terakhir mengalami kenaikan. Sampai pada tahun 2020 kemarin, Python sudah menduduki peringkat kedua di bawah javascript dan mengambil alih peringkat yang dimiliki oleh Java di tahun sebelumnya.",
   "metadata": {
    "slideshow": {
     "slide_type": "slide"
    },
    "tags": [],
    "cell_id": "00006-69671371-dc9f-4166-ada6-ff9ebaa6e4a6",
    "deepnote_cell_type": "markdown"
   }
  },
  {
   "cell_type": "markdown",
   "source": "<div align=\"middle\">\n    <img src=\"../../assets/images/top-languages-gh-2020.png\" width=\"50%\">\n</div>",
   "metadata": {
    "slideshow": {
     "slide_type": "subslide"
    },
    "tags": [],
    "cell_id": "00007-1cb349f4-9b85-461f-8aa0-ffc88956d13f",
    "deepnote_cell_type": "markdown"
   }
  },
  {
   "cell_type": "markdown",
   "source": "<a style='text-decoration:none;line-height:16px;display:flex;color:#5B5B62;padding:10px;justify-content:end;' href='https://deepnote.com?utm_source=created-in-deepnote-cell&projectId=b94dbdc3-5beb-4253-8ac8-903563c1644d' target=\"_blank\">\n<img alt='Created in deepnote.com' style='display:inline;max-height:16px;margin:0px;margin-right:7.5px;' src='data:image/svg+xml;base64,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' > </img>\nCreated in <span style='font-weight:600;margin-left:4px;'>Deepnote</span></a>",
   "metadata": {
    "tags": [],
    "created_in_deepnote_cell": true,
    "deepnote_cell_type": "markdown"
   }
  }
 ],
 "nbformat": 4,
 "nbformat_minor": 5,
 "metadata": {
  "kernelspec": {
   "display_name": "Python 3",
   "language": "python",
   "name": "python3"
  },
  "language_info": {
   "codemirror_mode": {
    "name": "ipython",
    "version": 3
   },
   "file_extension": ".py",
   "mimetype": "text/x-python",
   "name": "python",
   "nbconvert_exporter": "python",
   "pygments_lexer": "ipython3",
   "version": "3.8.6"
  },
  "deepnote_notebook_id": "c5a1c7b7-e246-4179-a3a3-8af0e71b423f",
  "deepnote": {},
  "deepnote_execution_queue": []
 }
}
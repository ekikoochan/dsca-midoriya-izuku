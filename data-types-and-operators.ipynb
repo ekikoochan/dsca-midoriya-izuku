{
 "cells": [
  {
   "cell_type": "markdown",
   "source": "# Tipe Data dan Operator\n\nSetiap pemrograman memiliki tipe data bawaan, begitu juga Python. Dalam notebook ini, kita akan mulai berkenalan dengan tipe data yang ada dalam Python dan juga bagaimana kita bisa menggunakan Python untuk melakukan operasi-operasi yang biasa kita lakukan menggunakan kalkulator.",
   "metadata": {
    "slideshow": {
     "slide_type": "slide"
    },
    "tags": [],
    "cell_id": "00000-d5488bb3-e14e-42bb-87c2-4da1baa1d02c",
    "deepnote_cell_type": "markdown"
   }
  },
  {
   "cell_type": "code",
   "metadata": {
    "tags": [],
    "cell_id": "00001-3c41aa8c-95ab-4253-aec9-6f0aa146adef",
    "deepnote_to_be_reexecuted": false,
    "source_hash": "7812edf1",
    "execution_start": 1633090023385,
    "execution_millis": 199,
    "deepnote_cell_type": "code"
   },
   "source": "my_population",
   "execution_count": null,
   "outputs": [
    {
     "output_type": "error",
     "ename": "NameError",
     "evalue": "name 'my_population' is not defined",
     "traceback": [
      "\u001b[0;31m---------------------------------------------------------------------------\u001b[0m",
      "\u001b[0;31mNameError\u001b[0m                                 Traceback (most recent call last)",
      "\u001b[0;32m/tmp/ipykernel_455/173769996.py\u001b[0m in \u001b[0;36m<module>\u001b[0;34m\u001b[0m\n\u001b[0;32m----> 1\u001b[0;31m \u001b[0mmy_population\u001b[0m\u001b[0;34m\u001b[0m\u001b[0;34m\u001b[0m\u001b[0m\n\u001b[0m",
      "\u001b[0;31mNameError\u001b[0m: name 'my_population' is not defined"
     ]
    }
   ]
  },
  {
   "cell_type": "markdown",
   "source": "## Python Sebagai Kalkulator\n\nBeberapa operator di Python:\n* `+` penjumlahan\n* `-` pengurangan\n* `*` perkalian\n* `/` pembagian\n* `**` operasi eksponen/pangkat (bahasa pemrograman yang lain mungkin menggunakan `^`)\n* `//` pembagian yang hasillnya dibulatkan ke bawah.",
   "metadata": {
    "slideshow": {
     "slide_type": "slide"
    },
    "tags": [],
    "cell_id": "00001-86db2679-8a94-4a91-bb0f-37e40a430e65",
    "deepnote_cell_type": "markdown"
   }
  },
  {
   "cell_type": "markdown",
   "source": "<div class=\"alert alert-block alert-info\">\n    <strong>Kuis:</strong> Sebagai pekerja lepas, pemasukan tiap bulan saya tidak tentu. Bulan Januari kemairn saya mendapat pemasukan sebesar 1 juta rupiah, Februari Rp 500.000,-, dan Rp 800.000,- di bulan Maret. Berapa rata-rata pendapatan saya pada kuartal pertama di tahun ini?\n</div>",
   "metadata": {
    "slideshow": {
     "slide_type": "subslide"
    },
    "tags": [],
    "cell_id": "00002-1f7f17a5-2c5f-4ccb-9b9e-363016fc3250",
    "deepnote_cell_type": "markdown"
   }
  },
  {
   "cell_type": "code",
   "metadata": {
    "cell_id": "00003-5cbe5d1c-4761-4a48-b485-db6725e025f6",
    "deepnote_to_be_reexecuted": true,
    "source_hash": "f3012996",
    "execution_start": 1633089382760,
    "execution_millis": 5,
    "deepnote_cell_type": "code"
   },
   "source": "value_1 = 1000000\nvalue_2 = 500000\nvalue_3 = 800000\naverage = (value_1 + value_2 + value_3) // 3\nprint(average)\n\npendapatan = 1000000 + 500000 + 800000\nprint(pendapatan // 3)",
   "execution_count": null,
   "outputs": [
    {
     "name": "stdout",
     "text": "766666\n766666\n",
     "output_type": "stream"
    }
   ]
  },
  {
   "cell_type": "markdown",
   "source": "<div class=\"alert alert-block alert-info\">\n<code>print</code> adalah fungsi bawaan dari Python yang digunakan untuk menampilkan nilai masukan (<em>input</em>) apapun ke luaran sebagai <strong>teks</strong>\n</div>",
   "metadata": {
    "slideshow": {
     "slide_type": "slide"
    },
    "tags": [],
    "cell_id": "00004-1ff47d1c-0962-4b22-9fc9-faac425c3d72",
    "deepnote_cell_type": "markdown"
   }
  },
  {
   "cell_type": "code",
   "metadata": {
    "cell_id": "00005-bcb7ebbf-65b3-4dc1-81ef-012f431550c0",
    "deepnote_to_be_reexecuted": true,
    "source_hash": "2ed348dc",
    "execution_start": 1632677357721,
    "execution_millis": 22,
    "deepnote_cell_type": "code"
   },
   "source": "print(25 + 30)\nprint(10 - 5 * 20)\nprint(4 / 2)\nprint(4 % 2)\nprint(12 ** 2)\nprint(111 // 5)",
   "execution_count": null,
   "outputs": [
    {
     "name": "stdout",
     "text": "55\n-90\n2.0\n0\n144\n22\n",
     "output_type": "stream"
    }
   ]
  },
  {
   "cell_type": "markdown",
   "source": "## Variabel dan Operator Penugasan\n\nKita bisa mendefinisikan variabel dengan menggunakan operator `=`, sebagai contoh, `current_year = 2021`. Di sini, `current_year` adalah **nama variabel**, **=** adalah operator penugasan (*assignment operator*), yang diberi nilai **2021**.\n\nJika kita ingin mendefinisikan lebih dari satu variabel, kita bisa menuliskan seperti di bawah ini.\n\n```python\nx = 10\ny = 7\nz = 12\n```\n\natau, cara pendefinisian yang lebih *pythonic*,\n\n```python\nx, y, z = 10, 7, 12\n```",
   "metadata": {
    "slideshow": {
     "slide_type": "slide"
    },
    "tags": [],
    "cell_id": "00006-9819b0b5-13ee-4268-8573-3971bf11997f",
    "deepnote_cell_type": "markdown"
   }
  },
  {
   "cell_type": "markdown",
   "source": "Dalam pendefinisian variabel, ada beberapa aturan yang perlu diperhatikan:\n1. Hanya gunakan **huruf**, **angka**, dan **garis bawah (`_`)**.\n2. **Jangan** menggunakan **spasi**.\n3. **Diawali** dengan **huruf** atau **garis bawah**\n4. Tidak bisa menggunakan **kata kunci yang sudah dipakai** yang merupakan bawaan dari Python. Contoh kata kunci bawaan yang tidak bisa kita pakai seperti pada gambar di bawah ini dan selengkapnya bisa dilihat [di sini](https://pentangle.net/python/handbook/node52.html).\n5. Cara yang lebih *pythonic* untuk menamai variabel adalah dengan menggunakan semua **hurus kecil** dan setiap suku kata **dipisahkan** oleh **garis bawah (`_`)**.",
   "metadata": {
    "slideshow": {
     "slide_type": "subslide"
    },
    "tags": [],
    "cell_id": "00007-9a96533c-be4a-46c1-bbde-db4ca4776ec8",
    "deepnote_cell_type": "markdown"
   }
  },
  {
   "cell_type": "markdown",
   "source": "![](../../assets/images/python-keywords.png)\n\n<div class=\"alert alert-info alert-block\">\n    Cara kita menamai sebuah variabel disebut dengan <b>snake case</b> karena kita cenderung menghubungkan atau memisahkan setiap suku kata dengan garis bawah, layaknya tubuh ular.\n</div>",
   "metadata": {
    "slideshow": {
     "slide_type": "subslide"
    },
    "tags": [],
    "cell_id": "00008-e0e654b5-8587-42d9-baed-411a547ed512",
    "deepnote_cell_type": "markdown"
   }
  },
  {
   "cell_type": "code",
   "metadata": {
    "slideshow": {
     "slide_type": "slide"
    },
    "tags": [],
    "cell_id": "00009-155cd5df-fd11-4e0a-acf7-59ed15dc8623",
    "deepnote_to_be_reexecuted": true,
    "source_hash": "261f9424",
    "execution_start": 1632677357732,
    "execution_millis": 11,
    "deepnote_cell_type": "code"
   },
   "source": "# akan muncul error karena ada spasi\nmy population = 12091849",
   "execution_count": null,
   "outputs": [
    {
     "output_type": "error",
     "ename": "SyntaxError",
     "evalue": "invalid syntax (40327442.py, line 2)",
     "traceback": [
      "\u001b[0;36m  File \u001b[0;32m\"/tmp/ipykernel_153/40327442.py\"\u001b[0;36m, line \u001b[0;32m2\u001b[0m\n\u001b[0;31m    my population = 12091849\u001b[0m\n\u001b[0m                ^\u001b[0m\n\u001b[0;31mSyntaxError\u001b[0m\u001b[0;31m:\u001b[0m invalid syntax\n"
     ]
    }
   ]
  },
  {
   "cell_type": "code",
   "metadata": {
    "cell_id": "00010-d48af25f-c830-4151-8170-c45e36d21671",
    "deepnote_to_be_reexecuted": true,
    "source_hash": "99f3874a",
    "deepnote_cell_type": "code"
   },
   "source": "# akan muncul error karena diawali dengan angka\n1_var = 100",
   "execution_count": null,
   "outputs": []
  },
  {
   "cell_type": "code",
   "metadata": {
    "cell_id": "00011-d495e836-c401-4015-8d09-df6b55dd921c",
    "deepnote_to_be_reexecuted": true,
    "source_hash": "69fa0bdd",
    "execution_start": 1632677370490,
    "execution_millis": 4,
    "deepnote_cell_type": "code"
   },
   "source": "current_year = 2021\nlast_year = 2020\n\nprint(current_year, last_year)",
   "execution_count": null,
   "outputs": [
    {
     "name": "stdout",
     "text": "2021 2020\n",
     "output_type": "stream"
    }
   ]
  },
  {
   "cell_type": "code",
   "metadata": {
    "cell_id": "00012-36b894c7-9fa1-4ac2-b3d7-eef29dc192bd",
    "deepnote_to_be_reexecuted": true,
    "source_hash": "2d58a395",
    "execution_start": 1632677370506,
    "deepnote_cell_type": "code"
   },
   "source": "# ini adalah baris komentar dalam Python (baris yang dimulai dengan `#`)\nx, y, z = 10, 11, 12\n\nprint(x)\nprint(y)\nprint(z)",
   "execution_count": null,
   "outputs": [
    {
     "name": "stdout",
     "text": "10\n11\n12\n",
     "output_type": "stream"
    }
   ]
  },
  {
   "cell_type": "markdown",
   "source": "## Operator Penugasan Lain\n\nSelain `=`, ada beberapa operator penugasan lain yang mungkin berguna dan menyingkat penulisan seperti `+=`, `-=`, atau juga `*=`.\n\nSebagai contoh, jika kita ingin melakukan perubahan variabel `current_year`, kita bisa menulis\n\n```python\ncurrent_year = current_year + 1\n```\n\nKarena kita hanya akan memperbarui nilai `current_year` dan akan masih menggunakan nama variabel yang sama, kita bisa menggunakan operator `+=`. Sehinga, akan jadi seperti\n\n```python\ncurrent_year += 1\n```",
   "metadata": {
    "slideshow": {
     "slide_type": "slide"
    },
    "tags": [],
    "cell_id": "00013-589918db-f913-4b69-848d-24fd1362276e",
    "deepnote_cell_type": "markdown"
   }
  },
  {
   "cell_type": "code",
   "metadata": {
    "cell_id": "00014-69b145b9-5386-4cde-bd36-a9649cbb179d",
    "deepnote_to_be_reexecuted": true,
    "source_hash": "6d5c8b03",
    "execution_start": 1632677370539,
    "deepnote_cell_type": "code"
   },
   "source": "my_population = 12091840\nmy_population = my_population + 1000000\nprint(my_population)\n\nmy_population *= 0.5\nprint(my_population)",
   "execution_count": null,
   "outputs": [
    {
     "name": "stdout",
     "text": "13091840\n6545920.0\n",
     "output_type": "stream"
    }
   ]
  },
  {
   "cell_type": "code",
   "metadata": {
    "tags": [],
    "cell_id": "00015-ee3e46ca-8c6d-4652-b45c-5062826c89f5",
    "deepnote_to_be_reexecuted": true,
    "source_hash": "53815369",
    "execution_start": 1632832658203,
    "execution_millis": 1,
    "deepnote_cell_type": "code"
   },
   "source": "my_population = 1000",
   "execution_count": null,
   "outputs": []
  },
  {
   "cell_type": "markdown",
   "source": "Selain operator penugasan di atas, ada juga operator perbandingan yang digunakan untuk membandingkan suatu nilai dengan nilai lainnya. Berikut adalah tabel operator perbandingan.\n\n|Symbol Use Case|Bool|Operation|\n|---------------|----|---------|\n| 5 < 3 | False | Less Than\n| 5 > 3 | True | Greater Than\n| 3 <= 3 | True | Less Than or Equal To\n| 3 >= 5 | False | Greater Than or Equal To\n| 3 == 5 | False | Equal To\n| 3 != 5 | True | Not Equal To\n\nHasil dari operasi perbandingan tersebut adalah sebuah `Boolean`, yaitu salah satu tipe data yang menyatakan suatu objek bernilai **benar** (`True`) atau **salah** (`False`).",
   "metadata": {
    "slideshow": {
     "slide_type": "subslide"
    },
    "tags": [],
    "cell_id": "00015-781509b6-f2f1-4772-94c5-166dc92f9ae8",
    "deepnote_cell_type": "markdown"
   }
  },
  {
   "cell_type": "markdown",
   "source": "## Tipe Data dalam Python\n\n### Numerik\n\nTipe data pertama yang akan kita bahas adalah tipe data numerik. Dalam tipe data numerik, terdapat dua jenis tipe data:\n* `int`, untuk nilai-nilai bilangan bulat\n* `float`, untuk nilai-nilai bilangan desimal atau real\n* `complex`, untuk nilai-nilai bilanga kompleks\n\n<div class=\"alert alert-block alert-info\">\nUntuk mengetahui tipe data suatu objek dalam Python, kita bisa menggunakan fungsi bawaan Python yaitu `type`, misal `type(10)`.\n</div>",
   "metadata": {
    "slideshow": {
     "slide_type": "slide"
    },
    "tags": [],
    "cell_id": "00016-c6c9d0a5-1891-40a8-ab4a-d2edfee57b93",
    "deepnote_cell_type": "markdown"
   }
  },
  {
   "cell_type": "markdown",
   "source": "#### Integers\n\nDengan kita menulis `1`, `-10`, `1000000`, `-999`, dan sejenisnya, kita sudah menginisiasi data integer. Sebagai contoh, kita bisa mencari tahu secara langsung tipe data dari nilai tersebut atau juga dengan mendefinisikannya ke dalam sebuah variabel.\n\n```python\nprint(type(1), type(-10))\n```\n\natau dengan memasukkannya ke dalam variabel seperti berikut.\n\n```python\nvalue = -100\nprint(type(value))\n```",
   "metadata": {
    "slideshow": {
     "slide_type": "subslide"
    },
    "tags": [],
    "cell_id": "00017-09034fb7-11ed-4342-88b7-bde1d7950710",
    "deepnote_cell_type": "markdown"
   }
  },
  {
   "cell_type": "code",
   "metadata": {
    "cell_id": "00018-0b1652d4-03cd-41af-a527-fe1deb7015e8",
    "deepnote_to_be_reexecuted": true,
    "source_hash": "7898e713",
    "execution_start": 1632843590198,
    "execution_millis": 55,
    "deepnote_cell_type": "code"
   },
   "source": "print(type(10))\nprint(type(1), type(-10))",
   "execution_count": null,
   "outputs": [
    {
     "name": "stdout",
     "text": "<class 'int'>\n<class 'int'> <class 'int'>\n",
     "output_type": "stream"
    }
   ]
  },
  {
   "cell_type": "markdown",
   "source": "#### Float\n\nTipe data `float` adalah semua nilai desimal seperti `0.14`, `-10.2092`, dan bahkan `100.0`. Contoh terakhir bertipe data `float` karena meskipun dalam matematika sama dengan `100`, tapi karena kita membubuhi notasi desimal (`.`), maka Python akan menganggap objek tersebut bertipe data `float`.",
   "metadata": {
    "slideshow": {
     "slide_type": "subslide"
    },
    "tags": [],
    "cell_id": "00019-4a38c576-2d33-41fb-ab53-e6292b4be241",
    "deepnote_cell_type": "markdown"
   }
  },
  {
   "cell_type": "code",
   "metadata": {
    "cell_id": "00020-edc98427-6224-478c-98c9-380b9f4cf115",
    "deepnote_to_be_reexecuted": true,
    "source_hash": "4aae4b32",
    "execution_start": 1632677370541,
    "execution_millis": 2,
    "deepnote_cell_type": "code"
   },
   "source": "print(3.15, type(3.14))\nprint(.5101, type(.05101))\nprint(10.0, type(10.0))",
   "execution_count": null,
   "outputs": [
    {
     "name": "stdout",
     "text": "3.15 <class 'float'>\n0.5101 <class 'float'>\n10.0 <class 'float'>\n",
     "output_type": "stream"
    }
   ]
  },
  {
   "cell_type": "markdown",
   "source": "Python juga menyediakan fungsi bawaan `float` dan `int` yang salah satu kegunaanny adalah untuk mengubah tipe data yang awalnya integer menjadi float dan sebaliknya.\n\n<div class=\"alert alert-success alert-block\">\n    fungsi <code>float</code> dan <code>int</code> juga bisa digunakan untuk mendefinisikan nilai kosong (<math>0</math>) jika kita memanggilnya tanpa ada argumen\n\n<pre>\nsimple_int = int()\nsimple_float = float()\n</pre>\n</div>",
   "metadata": {
    "slideshow": {
     "slide_type": "subslide"
    },
    "tags": [],
    "cell_id": "00021-071ef8f2-a2f0-4a0e-aedc-aa7053380020",
    "deepnote_cell_type": "markdown"
   }
  },
  {
   "cell_type": "code",
   "metadata": {
    "cell_id": "00022-bdc6efb9-c10e-40de-b7ba-2e0222e37503",
    "deepnote_to_be_reexecuted": true,
    "source_hash": "9af67da",
    "execution_start": 1632677370565,
    "deepnote_cell_type": "code"
   },
   "source": "# konversi tipe data dari float ke int, dan sebaliknya\nx_int = 10\ny_float = 3.14\n\nx_float = float(x_int)\ny_int = int(y_float)\n\nprint(x_int, y_int)\nprint(x_float, y_float)\nprint(float(y_float))",
   "execution_count": null,
   "outputs": [
    {
     "name": "stdout",
     "text": "10 3\n10.0 3.14\n3.14\n",
     "output_type": "stream"
    }
   ]
  },
  {
   "cell_type": "code",
   "metadata": {
    "cell_id": "00023-716d9e16-a2a3-446e-b78e-00ddc1e4d0cd",
    "deepnote_to_be_reexecuted": true,
    "source_hash": "b0fb155f",
    "execution_start": 1632677370566,
    "deepnote_cell_type": "code"
   },
   "source": "simple_int = int()\nsimple_float = float()\n\nprint(simple_int, simple_float)",
   "execution_count": null,
   "outputs": [
    {
     "name": "stdout",
     "text": "0 0.0\n",
     "output_type": "stream"
    }
   ]
  },
  {
   "cell_type": "code",
   "metadata": {
    "tags": [],
    "cell_id": "00024-ce3a395b-bfd2-48d2-94e2-b894e0819757",
    "deepnote_to_be_reexecuted": true,
    "source_hash": "c8443376",
    "deepnote_cell_type": "code"
   },
   "source": "int()",
   "execution_count": null,
   "outputs": []
  },
  {
   "cell_type": "markdown",
   "source": "### Teks\n\nSuatu teks, dalam Python, diwakili dengan tipe data `str` (baca: *string*). Teks adalah salah satu tipe data barisan dalam Python. Ada beberapa cara untuk mendefiniskan teks, yaitu membungkus teks dengan:\n* *double quotes* (`\"\"`)\n* *single quotes* (`''`)\n* *triple double quotes* (`\"\"\" \"\"\"`)\n* atau, *triple single quotes* (`''' '''`)\n\nKita bisa menggunakan *double qoutes* atau *single qoute* untuk menulis teks dalam satu baris yang sama dan menggunakan *triple double quotes* atau *triple single quotes* untuk lebih dari satu baris.",
   "metadata": {
    "slideshow": {
     "slide_type": "slide"
    },
    "tags": [],
    "cell_id": "00024-8429911a-0a04-49a7-a28e-392d08eef447",
    "deepnote_cell_type": "markdown"
   }
  },
  {
   "cell_type": "markdown",
   "source": "<div class=\"alert alert-block alert-info\">\n<p><b>Kuis:</b> Coba buat 3 variabel yang memuat masing-masing teks di bawah ini sesuai dengan nama variabel yang sudah ditentukan:</p>\n<ul>\n<li>nama variabel → <code>bootcamp</code>\n<pre>\nSelamat datang di Bitlabs!\n</pre>\n</li>\n<li>nama variabel → <code>novel</code>\n<pre>\n\"Arif, cepat ke sini!\", ujar ibunya.\n</pre>\n</li>\n<li>\nnama variabel → <code>text</code>\n<pre>\nMungkin al'ad sudah tidak sanggup.\n\nTapi, apa mungkin?\n</pre>\n</li>\n</ul>\n</div>",
   "metadata": {
    "slideshow": {
     "slide_type": "slide"
    },
    "tags": [],
    "cell_id": "00025-0dd192e6-e4f9-4cef-b0a4-9036455497dd",
    "deepnote_cell_type": "markdown"
   }
  },
  {
   "cell_type": "code",
   "metadata": {
    "cell_id": "00026-44f70a5b-6053-4253-bfbd-afb5acaf693a",
    "deepnote_to_be_reexecuted": true,
    "source_hash": "21ea5616",
    "execution_start": 1632846365696,
    "execution_millis": 8,
    "deepnote_cell_type": "code"
   },
   "source": "bootcamp = # KETIK DI SINI\nnovel = # KETIK DI SINI\ntext = # KETIK DI SINI\n\nprint(bootcamp, novel, text)",
   "execution_count": null,
   "outputs": [
    {
     "output_type": "error",
     "ename": "SyntaxError",
     "evalue": "invalid syntax (281169296.py, line 1)",
     "traceback": [
      "\u001b[0;36m  File \u001b[0;32m\"/tmp/ipykernel_71/281169296.py\"\u001b[0;36m, line \u001b[0;32m1\u001b[0m\n\u001b[0;31m    bootcamp = # KETIK DI SINI\u001b[0m\n\u001b[0m                              ^\u001b[0m\n\u001b[0;31mSyntaxError\u001b[0m\u001b[0;31m:\u001b[0m invalid syntax\n"
     ]
    }
   ]
  },
  {
   "cell_type": "markdown",
   "source": "<div class=\"alert alert-block alert-info\">\n    <b>Kuis:</b> Perbaiki variabel <code>fix</code> di cell bawah ini supaya dapat ditampilkan.\n</div>",
   "metadata": {
    "slideshow": {
     "slide_type": "subslide"
    },
    "tags": [],
    "cell_id": "00027-c5b0010b-a1ec-48ba-b99f-0c8374ba7ca3",
    "deepnote_cell_type": "markdown"
   }
  },
  {
   "cell_type": "code",
   "metadata": {
    "cell_id": "00028-9df1b4f8-41c1-4274-933c-252a2f98087d",
    "deepnote_to_be_reexecuted": true,
    "source_hash": "63aa75d0",
    "execution_start": 1632762794230,
    "execution_millis": 23,
    "deepnote_cell_type": "code"
   },
   "source": "fix = '\n\"Apa mungkin, kita diam saja melihat 'ain diperlakukan seperti itu?\", tanya usop.\n\nIhsan pun diam, berpikir. \n\"\n\nprint(fix)",
   "execution_count": null,
   "outputs": [
    {
     "output_type": "error",
     "ename": "SyntaxError",
     "evalue": "EOL while scanning string literal (1180395828.py, line 1)",
     "traceback": [
      "\u001b[0;36m  File \u001b[0;32m\"/tmp/ipykernel_72/1180395828.py\"\u001b[0;36m, line \u001b[0;32m1\u001b[0m\n\u001b[0;31m    fix = '\u001b[0m\n\u001b[0m           ^\u001b[0m\n\u001b[0;31mSyntaxError\u001b[0m\u001b[0;31m:\u001b[0m EOL while scanning string literal\n"
     ]
    }
   ]
  },
  {
   "cell_type": "markdown",
   "source": "### Boolean\n\nJika kita lihat kembali tabel [operator perbandingan](comparison-operator) di atas, semua nilai yang dikembalikan bertipe `boolean` atau `bool`. Nilai boolean terdiri dari 2 jenis, `True` dan `False`. Dalam bahasa pemrograman lain, penulisannya mungkin akan sedikit berbeda, seperti javascript menggunakan huruf kecil `true`.\n\nNilai `True` dan `False` juga sering dikonversi ke dalam bentuk numerik yang memiliki nilai `1` dan `0` secara berturut-turut. Mari kita coba di cell bawah ini.",
   "metadata": {
    "slideshow": {
     "slide_type": "slide"
    },
    "tags": [],
    "cell_id": "00029-107125d9-9d01-49d9-80d7-3e84f98f89af",
    "deepnote_cell_type": "markdown"
   }
  },
  {
   "cell_type": "code",
   "metadata": {
    "cell_id": "00030-165752f4-7784-4375-9fff-b332b04213cf",
    "deepnote_to_be_reexecuted": true,
    "source_hash": "7804c840",
    "execution_start": 1632677382494,
    "execution_millis": 16,
    "deepnote_cell_type": "code"
   },
   "source": "print(5 < 3)\nprint(3 <= 5)\nprint(5 != 5.)\nprint(\"bit\" == \"Bit\")\nprint(\"abjad\" > \"Abjad\")\nprint(\"abjad\" > \"abjaf\")\nprint(\"1\" >= \"10\")",
   "execution_count": null,
   "outputs": [
    {
     "name": "stdout",
     "text": "False\nTrue\nFalse\nFalse\nTrue\nFalse\nFalse\n",
     "output_type": "stream"
    }
   ]
  },
  {
   "cell_type": "code",
   "metadata": {
    "cell_id": "00031-294fd6f7-7e5d-48a5-8dbc-474997a096cf",
    "deepnote_to_be_reexecuted": true,
    "source_hash": "f7bd69f7",
    "execution_start": 1632677382518,
    "execution_millis": 3,
    "deepnote_cell_type": "code"
   },
   "source": "is_more = x > z\nprint(is_more, type(is_more))",
   "execution_count": null,
   "outputs": [
    {
     "name": "stdout",
     "text": "False <class 'bool'>\n",
     "output_type": "stream"
    }
   ]
  },
  {
   "cell_type": "markdown",
   "source": "Kita juga bisa menggabungkan beberapa perbandingan menggunakan logika penggabungan `and`, `or`, atau `not`.  Selengkapnya dapat dilihat pada tabel di bawah ini.\n\n|Logical Use Case|Bool|Operation|\n|---------------|----|---------|\n| 15 < 13 `and` 5 == 5 | False | `and` - Dievaluasi `True` jika semua pernyataan benar\n| 15 > 13 `or` 5 != 5. | True | `or` - Dievaluasi `True` jika salah satu pernyataan benar\n| `not` 15 < 13 | True | `not` - Kebalikan dari nilai boolean",
   "metadata": {
    "slideshow": {
     "slide_type": "subslide"
    },
    "tags": [],
    "cell_id": "00032-4e87d987-1a79-44ca-b238-18f9f8b29856",
    "deepnote_cell_type": "markdown"
   }
  },
  {
   "cell_type": "markdown",
   "source": "![](../../assets/images/truth-table.png)",
   "metadata": {
    "slideshow": {
     "slide_type": "subslide"
    },
    "tags": [],
    "cell_id": "00033-16b9d665-ac9f-43d8-90b5-4e7dd30c5708",
    "deepnote_cell_type": "markdown"
   }
  },
  {
   "cell_type": "code",
   "metadata": {
    "tags": [],
    "cell_id": "00037-d5349f6e-db57-4386-94e8-6c7fd60bbc14",
    "deepnote_to_be_reexecuted": true,
    "source_hash": "715ff87a",
    "execution_start": 1632833530256,
    "execution_millis": 10,
    "deepnote_cell_type": "code"
   },
   "source": "benar = True\nsalah = False\ntrue = True\n\nprint(benar, salah, true)\n\nprint(\"1:\", benar and true)\nprint(\"2:\", benar and salah)\nprint(\"3:\", salah or true)\nprint(\"4:\", benar and salah and true)\nprint(\"5:\", benar and benar and benar and benar)\nprint(\"dini:\", benar and salah or benar)\nprint(\"6:\", (not true or salah) and benar or not(benar and true))\n# 1. not true or salah => False\n# 2. benar and true => True\n# 3. `False` and benar => False\n# 4. `False or not `True`",
   "execution_count": null,
   "outputs": [
    {
     "name": "stdout",
     "text": "True False True\n1: True\n2: False\n3: True\n4: False\n5: True\ndini: True\n6: False\n",
     "output_type": "stream"
    }
   ]
  },
  {
   "cell_type": "code",
   "metadata": {
    "cell_id": "00034-2d4ca6ee-a39a-4deb-b6b4-7e8a257fcb14",
    "deepnote_to_be_reexecuted": true,
    "source_hash": "8f296ecb",
    "execution_start": 1632831988097,
    "execution_millis": 0,
    "deepnote_cell_type": "code"
   },
   "source": "p = q = 1\n\np_and_notq = bool(p and not q)\nnotp_and_q = bool(not p and q)\n# notp_and_notq = # KETIK DI SINI\n\np_or_notq = bool(not q or p)\n# notp_or_q = # KETIK DI SINI\n# notp_or_notq = # KETIK DI SINI",
   "execution_count": null,
   "outputs": []
  },
  {
   "cell_type": "code",
   "metadata": {
    "tags": [],
    "cell_id": "00035-4322586f-e821-44b4-b3e5-3362339c9fd0",
    "deepnote_to_be_reexecuted": true,
    "source_hash": "f21989b2",
    "execution_start": 1632833923536,
    "execution_millis": 12,
    "deepnote_cell_type": "code"
   },
   "source": "x = \"python\"\ny = \"python from bitlabs\"\ny_ = \"PYTHON\"\nz = x or y\nz_ = y_ or y\n\nprint(x, bool(x), bool(0), bool(0.), bool(-183.2408163946))\nprint(y, bool(y), bool(\"\"))\nprint(z)\nprint(z_)",
   "execution_count": null,
   "outputs": [
    {
     "name": "stdout",
     "text": "python True False False True\npython from bitlabs True False\npython\nPYTHON\n",
     "output_type": "stream"
    }
   ]
  },
  {
   "cell_type": "code",
   "metadata": {
    "tags": [],
    "cell_id": "00035-2ca90ea8-c25c-4524-8239-07d536920ea9",
    "deepnote_to_be_reexecuted": true,
    "source_hash": "23fd5bb9",
    "execution_start": 1632831803076,
    "execution_millis": 22,
    "deepnote_cell_type": "code"
   },
   "source": "not q",
   "execution_count": null,
   "outputs": [
    {
     "output_type": "execute_result",
     "execution_count": 4,
     "data": {
      "text/plain": "False"
     },
     "metadata": {}
    }
   ]
  },
  {
   "cell_type": "code",
   "metadata": {
    "tags": [],
    "cell_id": "00035-4556f72b-4d90-4573-b4cf-ad8c65767935",
    "deepnote_to_be_reexecuted": true,
    "source_hash": "b5440043",
    "execution_start": 1632832000896,
    "execution_millis": 6,
    "deepnote_cell_type": "code"
   },
   "source": "print(p, bool(p))\nprint(q, bool(q))\nprint(p_and_notq)\nprint(notp_and_q)\nprint(p_or_notq)",
   "execution_count": null,
   "outputs": [
    {
     "name": "stdout",
     "text": "1 True\n1 True\nFalse\nFalse\nTrue\n",
     "output_type": "stream"
    }
   ]
  },
  {
   "cell_type": "markdown",
   "source": "Jika kita memasukkan nilai boolean ke dalam fungsi bawaan `int` atau `float`, maka nilai `True` akan berubah menjadi `1` dan `1.0` untuk integer dan float secara berturut-turut, dan sebaliknya untuk `False`.\n\nPython juga menyediakan fungsi bawaan `bool` yang bisa mengonversi tipe data lain ke dalam bentuk boolean.\n\n```python\nprint(bool(0))\nprint(bool(1))\nprint(bool(\"False\"))\nprint(bool(\"\"))\nprint(bool(0.))\nprint(bool)\n```",
   "metadata": {
    "slideshow": {
     "slide_type": "slide"
    },
    "tags": [],
    "cell_id": "00035-11452dac-4d8f-4482-b426-899854243e56",
    "deepnote_cell_type": "markdown"
   }
  },
  {
   "cell_type": "code",
   "metadata": {
    "tags": [],
    "cell_id": "00041-4fab30b6-a220-4b40-9392-6d3d36631862",
    "deepnote_to_be_reexecuted": true,
    "source_hash": "a7f516d6",
    "execution_start": 1632832683054,
    "execution_millis": 8,
    "deepnote_cell_type": "code"
   },
   "source": "my_population += 500\nprint(my_population)",
   "execution_count": null,
   "outputs": [
    {
     "name": "stdout",
     "text": "1500\n",
     "output_type": "stream"
    }
   ]
  },
  {
   "cell_type": "markdown",
   "source": "<a style='text-decoration:none;line-height:16px;display:flex;color:#5B5B62;padding:10px;justify-content:end;' href='https://deepnote.com?utm_source=created-in-deepnote-cell&projectId=b94dbdc3-5beb-4253-8ac8-903563c1644d' target=\"_blank\">\n<img alt='Created in deepnote.com' style='display:inline;max-height:16px;margin:0px;margin-right:7.5px;' src='data:image/svg+xml;base64,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' > </img>\nCreated in <span style='font-weight:600;margin-left:4px;'>Deepnote</span></a>",
   "metadata": {
    "tags": [],
    "created_in_deepnote_cell": true,
    "deepnote_cell_type": "markdown"
   }
  }
 ],
 "nbformat": 4,
 "nbformat_minor": 5,
 "metadata": {
  "jupytext": {
   "text_representation": {
    "format_name": "myst"
   }
  },
  "kernelspec": {
   "display_name": "Python 3",
   "language": "python",
   "name": "python3"
  },
  "language_info": {
   "codemirror_mode": {
    "name": "ipython",
    "version": 3
   },
   "file_extension": ".py",
   "mimetype": "text/x-python",
   "name": "python",
   "nbconvert_exporter": "python",
   "pygments_lexer": "ipython3",
   "version": "3.8.6"
  },
  "deepnote_notebook_id": "adc6eb82-ac7c-4991-a350-0a3b66cad682",
  "deepnote": {},
  "deepnote_execution_queue": []
 }
}